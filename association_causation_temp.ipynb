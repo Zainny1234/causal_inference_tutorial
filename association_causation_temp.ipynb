{
 "cells": [
  {
   "cell_type": "code",
   "execution_count": 1,
   "metadata": {},
   "outputs": [],
   "source": [
    "import pandas"
   ]
  },
  {
   "cell_type": "code",
   "execution_count": 6,
   "metadata": {},
   "outputs": [],
   "source": [
    "import numpy\n"
   ]
  },
  {
   "cell_type": "code",
   "execution_count": 7,
   "metadata": {},
   "outputs": [],
   "source": [
    "import warnings\n",
    "warnings.filterwarnings('ignore')\n",
    "\n",
    "import pandas as pd\n",
    "import numpy as np\n",
    "import graphviz as gr\n",
    "from matplotlib import style\n",
    "import seaborn as sns\n",
    "from matplotlib import pyplot as plt\n",
    "style.use(\"fivethirtyeight\")"
   ]
  },
  {
   "cell_type": "code",
   "execution_count": 12,
   "metadata": {},
   "outputs": [],
   "source": [
    "import statsmodels.formula.api as smf"
   ]
  },
  {
   "cell_type": "code",
   "execution_count": 325,
   "metadata": {},
   "outputs": [
    {
     "data": {
      "text/html": [
       "<div>\n",
       "<style scoped>\n",
       "    .dataframe tbody tr th:only-of-type {\n",
       "        vertical-align: middle;\n",
       "    }\n",
       "\n",
       "    .dataframe tbody tr th {\n",
       "        vertical-align: top;\n",
       "    }\n",
       "\n",
       "    .dataframe thead th {\n",
       "        text-align: right;\n",
       "    }\n",
       "</style>\n",
       "<table border=\"1\" class=\"dataframe\">\n",
       "  <thead>\n",
       "    <tr style=\"text-align: right;\">\n",
       "      <th></th>\n",
       "      <th>Email</th>\n",
       "      <th>Sales</th>\n",
       "    </tr>\n",
       "  </thead>\n",
       "  <tbody>\n",
       "    <tr>\n",
       "      <th>0</th>\n",
       "      <td>1</td>\n",
       "      <td>82.289961</td>\n",
       "    </tr>\n",
       "    <tr>\n",
       "      <th>1</th>\n",
       "      <td>1</td>\n",
       "      <td>103.948000</td>\n",
       "    </tr>\n",
       "    <tr>\n",
       "      <th>2</th>\n",
       "      <td>1</td>\n",
       "      <td>108.381000</td>\n",
       "    </tr>\n",
       "    <tr>\n",
       "      <th>3</th>\n",
       "      <td>1</td>\n",
       "      <td>117.025922</td>\n",
       "    </tr>\n",
       "    <tr>\n",
       "      <th>4</th>\n",
       "      <td>0</td>\n",
       "      <td>108.290000</td>\n",
       "    </tr>\n",
       "  </tbody>\n",
       "</table>\n",
       "</div>"
      ],
      "text/plain": [
       "   Email       Sales\n",
       "0      1   82.289961\n",
       "1      1  103.948000\n",
       "2      1  108.381000\n",
       "3      1  117.025922\n",
       "4      0  108.290000"
      ]
     },
     "execution_count": 325,
     "metadata": {},
     "output_type": "execute_result"
    }
   ],
   "source": [
    "df = pd.read_csv(\"Data/coupon_random.csv\")\n",
    "df.head(5)\n"
   ]
  },
  {
   "cell_type": "code",
   "execution_count": 328,
   "metadata": {},
   "outputs": [
    {
     "name": "stdout",
     "output_type": "stream",
     "text": [
      "100\n"
     ]
    }
   ],
   "source": [
    "def func(A,B):\n",
    "    if(B==0):\n",
    "        return A\n",
    "    else:\n",
    "        return func(B, A%B)\n",
    "ans= func(100, 2000)\n",
    "print(ans)\n"
   ]
  },
  {
   "cell_type": "code",
   "execution_count": 329,
   "metadata": {},
   "outputs": [
    {
     "data": {
      "text/plain": [
       "8"
      ]
     },
     "execution_count": 329,
     "metadata": {},
     "output_type": "execute_result"
    }
   ],
   "source": [
    "def fib(n):\n",
    "    if (n<=1):\n",
    "        return n\n",
    "    else:\n",
    "         return fib(n-1) + fib(n-2)\n",
    "fib(6)"
   ]
  },
  {
   "cell_type": "code",
   "execution_count": 326,
   "metadata": {},
   "outputs": [
    {
     "data": {
      "text/html": [
       "<table class=\"simpletable\">\n",
       "<tr>\n",
       "      <td></td>         <th>coef</th>     <th>std err</th>      <th>t</th>      <th>P>|t|</th>  <th>[0.025</th>    <th>0.975]</th>  \n",
       "</tr>\n",
       "<tr>\n",
       "  <th>Intercept</th> <td>   95.7258</td> <td>    1.545</td> <td>   61.950</td> <td> 0.000</td> <td>   92.686</td> <td>   98.766</td>\n",
       "</tr>\n",
       "<tr>\n",
       "  <th>Email</th>     <td>    5.4863</td> <td>    1.835</td> <td>    2.990</td> <td> 0.003</td> <td>    1.876</td> <td>    9.097</td>\n",
       "</tr>\n",
       "</table>"
      ],
      "text/plain": [
       "<class 'statsmodels.iolib.table.SimpleTable'>"
      ]
     },
     "execution_count": 326,
     "metadata": {},
     "output_type": "execute_result"
    }
   ],
   "source": [
    "result = smf.ols('Sales ~ Email', data=df).fit()\n",
    "result.summary().tables[1]"
   ]
  },
  {
   "cell_type": "code",
   "execution_count": null,
   "metadata": {},
   "outputs": [],
   "source": []
  },
  {
   "cell_type": "code",
   "execution_count": 327,
   "metadata": {},
   "outputs": [
    {
     "data": {
      "text/plain": [
       "Email\n",
       "0     95.725842\n",
       "1    101.212180\n",
       "Name: Sales, dtype: float64"
      ]
     },
     "execution_count": 327,
     "metadata": {},
     "output_type": "execute_result"
    }
   ],
   "source": [
    "(df\n",
    " .groupby(\"Email\")\n",
    " [\"Sales\"]\n",
    " .mean())"
   ]
  },
  {
   "cell_type": "code",
   "execution_count": 32,
   "metadata": {},
   "outputs": [
    {
     "data": {
      "text/html": [
       "<div>\n",
       "<style scoped>\n",
       "    .dataframe tbody tr th:only-of-type {\n",
       "        vertical-align: middle;\n",
       "    }\n",
       "\n",
       "    .dataframe tbody tr th {\n",
       "        vertical-align: top;\n",
       "    }\n",
       "\n",
       "    .dataframe thead th {\n",
       "        text-align: right;\n",
       "    }\n",
       "</style>\n",
       "<table border=\"1\" class=\"dataframe\">\n",
       "  <thead>\n",
       "    <tr style=\"text-align: right;\">\n",
       "      <th></th>\n",
       "      <th>lhwage</th>\n",
       "      <th>IQ</th>\n",
       "      <th>educ</th>\n",
       "      <th>exper</th>\n",
       "      <th>tenure</th>\n",
       "      <th>age</th>\n",
       "      <th>married</th>\n",
       "      <th>black</th>\n",
       "      <th>south</th>\n",
       "      <th>urban</th>\n",
       "      <th>sibs</th>\n",
       "      <th>brthord</th>\n",
       "      <th>meduc</th>\n",
       "      <th>feduc</th>\n",
       "    </tr>\n",
       "  </thead>\n",
       "  <tbody>\n",
       "    <tr>\n",
       "      <th>0</th>\n",
       "      <td>2.956212</td>\n",
       "      <td>93</td>\n",
       "      <td>12</td>\n",
       "      <td>11</td>\n",
       "      <td>2</td>\n",
       "      <td>31</td>\n",
       "      <td>1</td>\n",
       "      <td>0</td>\n",
       "      <td>0</td>\n",
       "      <td>1</td>\n",
       "      <td>1</td>\n",
       "      <td>2.0</td>\n",
       "      <td>8.0</td>\n",
       "      <td>8.0</td>\n",
       "    </tr>\n",
       "    <tr>\n",
       "      <th>1</th>\n",
       "      <td>2.782539</td>\n",
       "      <td>119</td>\n",
       "      <td>18</td>\n",
       "      <td>11</td>\n",
       "      <td>16</td>\n",
       "      <td>37</td>\n",
       "      <td>1</td>\n",
       "      <td>0</td>\n",
       "      <td>0</td>\n",
       "      <td>1</td>\n",
       "      <td>1</td>\n",
       "      <td>NaN</td>\n",
       "      <td>14.0</td>\n",
       "      <td>14.0</td>\n",
       "    </tr>\n",
       "    <tr>\n",
       "      <th>2</th>\n",
       "      <td>3.026504</td>\n",
       "      <td>108</td>\n",
       "      <td>14</td>\n",
       "      <td>11</td>\n",
       "      <td>9</td>\n",
       "      <td>33</td>\n",
       "      <td>1</td>\n",
       "      <td>0</td>\n",
       "      <td>0</td>\n",
       "      <td>1</td>\n",
       "      <td>1</td>\n",
       "      <td>2.0</td>\n",
       "      <td>14.0</td>\n",
       "      <td>14.0</td>\n",
       "    </tr>\n",
       "    <tr>\n",
       "      <th>3</th>\n",
       "      <td>2.788093</td>\n",
       "      <td>96</td>\n",
       "      <td>12</td>\n",
       "      <td>13</td>\n",
       "      <td>7</td>\n",
       "      <td>32</td>\n",
       "      <td>1</td>\n",
       "      <td>0</td>\n",
       "      <td>0</td>\n",
       "      <td>1</td>\n",
       "      <td>4</td>\n",
       "      <td>3.0</td>\n",
       "      <td>12.0</td>\n",
       "      <td>12.0</td>\n",
       "    </tr>\n",
       "    <tr>\n",
       "      <th>4</th>\n",
       "      <td>2.642622</td>\n",
       "      <td>74</td>\n",
       "      <td>11</td>\n",
       "      <td>14</td>\n",
       "      <td>5</td>\n",
       "      <td>34</td>\n",
       "      <td>1</td>\n",
       "      <td>0</td>\n",
       "      <td>0</td>\n",
       "      <td>1</td>\n",
       "      <td>10</td>\n",
       "      <td>6.0</td>\n",
       "      <td>6.0</td>\n",
       "      <td>11.0</td>\n",
       "    </tr>\n",
       "  </tbody>\n",
       "</table>\n",
       "</div>"
      ],
      "text/plain": [
       "     lhwage   IQ  educ  exper  tenure  age  married  black  south  urban  \\\n",
       "0  2.956212   93    12     11       2   31        1      0      0      1   \n",
       "1  2.782539  119    18     11      16   37        1      0      0      1   \n",
       "2  3.026504  108    14     11       9   33        1      0      0      1   \n",
       "3  2.788093   96    12     13       7   32        1      0      0      1   \n",
       "4  2.642622   74    11     14       5   34        1      0      0      1   \n",
       "\n",
       "   sibs  brthord  meduc  feduc  \n",
       "0     1      2.0    8.0    8.0  \n",
       "1     1      NaN   14.0   14.0  \n",
       "2     1      2.0   14.0   14.0  \n",
       "3     4      3.0   12.0   12.0  \n",
       "4    10      6.0    6.0   11.0  "
      ]
     },
     "execution_count": 32,
     "metadata": {},
     "output_type": "execute_result"
    }
   ],
   "source": [
    "wage = pd.read_csv(\"Data/wage.csv\")\n",
    "del wage['wage']\n",
    "del wage['hours']\n",
    "wage.head(5)\n"
   ]
  },
  {
   "cell_type": "code",
   "execution_count": 33,
   "metadata": {},
   "outputs": [
    {
     "data": {
      "text/html": [
       "<table class=\"simpletable\">\n",
       "<tr>\n",
       "      <td></td>         <th>coef</th>     <th>std err</th>      <th>t</th>      <th>P>|t|</th>  <th>[0.025</th>    <th>0.975]</th>  \n",
       "</tr>\n",
       "<tr>\n",
       "  <th>Intercept</th> <td>    2.2954</td> <td>    0.089</td> <td>   25.754</td> <td> 0.000</td> <td>    2.121</td> <td>    2.470</td>\n",
       "</tr>\n",
       "<tr>\n",
       "  <th>educ</th>      <td>    0.0529</td> <td>    0.007</td> <td>    8.107</td> <td> 0.000</td> <td>    0.040</td> <td>    0.066</td>\n",
       "</tr>\n",
       "</table>"
      ],
      "text/plain": [
       "<class 'statsmodels.iolib.table.SimpleTable'>"
      ]
     },
     "execution_count": 33,
     "metadata": {},
     "output_type": "execute_result"
    }
   ],
   "source": [
    "\n",
    "result = smf.ols('lhwage ~ educ', data=wage).fit()\n",
    "result.summary().tables[1]"
   ]
  },
  {
   "cell_type": "code",
   "execution_count": 34,
   "metadata": {},
   "outputs": [
    {
     "data": {
      "text/plain": [
       "Index(['lhwage', 'IQ', 'educ', 'exper', 'tenure', 'age', 'married', 'black',\n",
       "       'south', 'urban', 'sibs', 'brthord', 'meduc', 'feduc'],\n",
       "      dtype='object')"
      ]
     },
     "execution_count": 34,
     "metadata": {},
     "output_type": "execute_result"
    }
   ],
   "source": [
    "controls = ['IQ', 'exper', 'tenure', 'age', 'married', 'black', 'south', 'urban', 'sibs', 'brthord', 'meduc']"
   ]
  },
  {
   "cell_type": "code",
   "execution_count": 36,
   "metadata": {},
   "outputs": [
    {
     "data": {
      "text/html": [
       "<table class=\"simpletable\">\n",
       "<tr>\n",
       "      <td></td>         <th>coef</th>     <th>std err</th>      <th>t</th>      <th>P>|t|</th>  <th>[0.025</th>    <th>0.975]</th>  \n",
       "</tr>\n",
       "<tr>\n",
       "  <th>Intercept</th> <td>    1.1821</td> <td>    0.212</td> <td>    5.582</td> <td> 0.000</td> <td>    0.766</td> <td>    1.598</td>\n",
       "</tr>\n",
       "<tr>\n",
       "  <th>educ</th>      <td>    0.0470</td> <td>    0.009</td> <td>    5.225</td> <td> 0.000</td> <td>    0.029</td> <td>    0.065</td>\n",
       "</tr>\n",
       "<tr>\n",
       "  <th>IQ</th>        <td>    0.0033</td> <td>    0.001</td> <td>    2.717</td> <td> 0.007</td> <td>    0.001</td> <td>    0.006</td>\n",
       "</tr>\n",
       "<tr>\n",
       "  <th>exper</th>     <td>    0.0145</td> <td>    0.005</td> <td>    3.186</td> <td> 0.001</td> <td>    0.006</td> <td>    0.023</td>\n",
       "</tr>\n",
       "<tr>\n",
       "  <th>tenure</th>    <td>    0.0095</td> <td>    0.003</td> <td>    3.192</td> <td> 0.001</td> <td>    0.004</td> <td>    0.015</td>\n",
       "</tr>\n",
       "<tr>\n",
       "  <th>age</th>       <td>    0.0074</td> <td>    0.006</td> <td>    1.324</td> <td> 0.186</td> <td>   -0.004</td> <td>    0.018</td>\n",
       "</tr>\n",
       "<tr>\n",
       "  <th>married</th>   <td>    0.1754</td> <td>    0.048</td> <td>    3.623</td> <td> 0.000</td> <td>    0.080</td> <td>    0.270</td>\n",
       "</tr>\n",
       "<tr>\n",
       "  <th>black</th>     <td>   -0.1104</td> <td>    0.052</td> <td>   -2.131</td> <td> 0.033</td> <td>   -0.212</td> <td>   -0.009</td>\n",
       "</tr>\n",
       "<tr>\n",
       "  <th>south</th>     <td>   -0.0401</td> <td>    0.032</td> <td>   -1.261</td> <td> 0.208</td> <td>   -0.102</td> <td>    0.022</td>\n",
       "</tr>\n",
       "<tr>\n",
       "  <th>urban</th>     <td>    0.1892</td> <td>    0.032</td> <td>    5.860</td> <td> 0.000</td> <td>    0.126</td> <td>    0.253</td>\n",
       "</tr>\n",
       "<tr>\n",
       "  <th>sibs</th>      <td>    0.0009</td> <td>    0.008</td> <td>    0.110</td> <td> 0.912</td> <td>   -0.015</td> <td>    0.017</td>\n",
       "</tr>\n",
       "<tr>\n",
       "  <th>brthord</th>   <td>   -0.0033</td> <td>    0.011</td> <td>   -0.286</td> <td> 0.775</td> <td>   -0.026</td> <td>    0.019</td>\n",
       "</tr>\n",
       "<tr>\n",
       "  <th>meduc</th>     <td>    0.0123</td> <td>    0.006</td> <td>    2.208</td> <td> 0.028</td> <td>    0.001</td> <td>    0.023</td>\n",
       "</tr>\n",
       "</table>"
      ],
      "text/plain": [
       "<class 'statsmodels.iolib.table.SimpleTable'>"
      ]
     },
     "execution_count": 36,
     "metadata": {},
     "output_type": "execute_result"
    }
   ],
   "source": [
    "controls = ['IQ', 'exper', 'tenure', 'age', 'married', 'black', 'south', 'urban', 'sibs', 'brthord', 'meduc']\n",
    "result = smf.ols('lhwage ~ educ +' + '+'.join(controls), data=wage).fit()\n",
    "result.summary().tables[1]"
   ]
  },
  {
   "cell_type": "code",
   "execution_count": 54,
   "metadata": {},
   "outputs": [
    {
     "data": {
      "text/html": [
       "<div>\n",
       "<style scoped>\n",
       "    .dataframe tbody tr th:only-of-type {\n",
       "        vertical-align: middle;\n",
       "    }\n",
       "\n",
       "    .dataframe tbody tr th {\n",
       "        vertical-align: top;\n",
       "    }\n",
       "\n",
       "    .dataframe thead th {\n",
       "        text-align: right;\n",
       "    }\n",
       "</style>\n",
       "<table border=\"1\" class=\"dataframe\">\n",
       "  <thead>\n",
       "    <tr style=\"text-align: right;\">\n",
       "      <th></th>\n",
       "      <th>sales</th>\n",
       "      <th>email</th>\n",
       "      <th>opened</th>\n",
       "      <th>agreement</th>\n",
       "      <th>credit_limit</th>\n",
       "      <th>risk_score</th>\n",
       "    </tr>\n",
       "  </thead>\n",
       "  <tbody>\n",
       "    <tr>\n",
       "      <th>0</th>\n",
       "      <td>740</td>\n",
       "      <td>1</td>\n",
       "      <td>1</td>\n",
       "      <td>0</td>\n",
       "      <td>2348.495260</td>\n",
       "      <td>0.666752</td>\n",
       "    </tr>\n",
       "    <tr>\n",
       "      <th>1</th>\n",
       "      <td>580</td>\n",
       "      <td>1</td>\n",
       "      <td>1</td>\n",
       "      <td>1</td>\n",
       "      <td>334.111969</td>\n",
       "      <td>0.207395</td>\n",
       "    </tr>\n",
       "    <tr>\n",
       "      <th>2</th>\n",
       "      <td>600</td>\n",
       "      <td>1</td>\n",
       "      <td>1</td>\n",
       "      <td>1</td>\n",
       "      <td>1360.660722</td>\n",
       "      <td>0.550479</td>\n",
       "    </tr>\n",
       "    <tr>\n",
       "      <th>3</th>\n",
       "      <td>770</td>\n",
       "      <td>0</td>\n",
       "      <td>0</td>\n",
       "      <td>0</td>\n",
       "      <td>1531.828576</td>\n",
       "      <td>0.560488</td>\n",
       "    </tr>\n",
       "    <tr>\n",
       "      <th>4</th>\n",
       "      <td>660</td>\n",
       "      <td>0</td>\n",
       "      <td>0</td>\n",
       "      <td>0</td>\n",
       "      <td>979.855647</td>\n",
       "      <td>0.455140</td>\n",
       "    </tr>\n",
       "  </tbody>\n",
       "</table>\n",
       "</div>"
      ],
      "text/plain": [
       "   sales  email  opened  agreement  credit_limit  risk_score\n",
       "0    740      1       1          0   2348.495260    0.666752\n",
       "1    580      1       1          1    334.111969    0.207395\n",
       "2    600      1       1          1   1360.660722    0.550479\n",
       "3    770      0       0          0   1531.828576    0.560488\n",
       "4    660      0       0          0    979.855647    0.455140"
      ]
     },
     "execution_count": 54,
     "metadata": {},
     "output_type": "execute_result"
    }
   ],
   "source": [
    "email = pd.read_csv(\"Data/email_rfm.csv\")\n",
    "email.head(5)"
   ]
  },
  {
   "cell_type": "code",
   "execution_count": 55,
   "metadata": {},
   "outputs": [],
   "source": [
    "OldRange = (max(email['credit_limit']) - min(email['credit_limit']))  \n",
    "NewRange = (1 - 0)  \n",
    "email['rfm'] = (((email['credit_limit'] - min(email['credit_limit'])) * NewRange) / OldRange) + 0"
   ]
  },
  {
   "cell_type": "code",
   "execution_count": 51,
   "metadata": {},
   "outputs": [
    {
     "data": {
      "text/plain": [
       "Index(['sales', 'email', 'agreement', 'credit_limit', 'risk_score', 'rfm'], dtype='object')"
      ]
     },
     "execution_count": 51,
     "metadata": {},
     "output_type": "execute_result"
    }
   ],
   "source": [
    "email_bk.columns"
   ]
  },
  {
   "cell_type": "code",
   "execution_count": 56,
   "metadata": {},
   "outputs": [
    {
     "data": {
      "text/html": [
       "<div>\n",
       "<style scoped>\n",
       "    .dataframe tbody tr th:only-of-type {\n",
       "        vertical-align: middle;\n",
       "    }\n",
       "\n",
       "    .dataframe tbody tr th {\n",
       "        vertical-align: top;\n",
       "    }\n",
       "\n",
       "    .dataframe thead th {\n",
       "        text-align: right;\n",
       "    }\n",
       "</style>\n",
       "<table border=\"1\" class=\"dataframe\">\n",
       "  <thead>\n",
       "    <tr style=\"text-align: right;\">\n",
       "      <th></th>\n",
       "      <th>sales</th>\n",
       "      <th>email</th>\n",
       "      <th>rfm</th>\n",
       "    </tr>\n",
       "  </thead>\n",
       "  <tbody>\n",
       "    <tr>\n",
       "      <th>0</th>\n",
       "      <td>740</td>\n",
       "      <td>1</td>\n",
       "      <td>0.584197</td>\n",
       "    </tr>\n",
       "    <tr>\n",
       "      <th>1</th>\n",
       "      <td>580</td>\n",
       "      <td>1</td>\n",
       "      <td>0.038069</td>\n",
       "    </tr>\n",
       "    <tr>\n",
       "      <th>2</th>\n",
       "      <td>600</td>\n",
       "      <td>1</td>\n",
       "      <td>0.316381</td>\n",
       "    </tr>\n",
       "    <tr>\n",
       "      <th>3</th>\n",
       "      <td>770</td>\n",
       "      <td>0</td>\n",
       "      <td>0.362787</td>\n",
       "    </tr>\n",
       "    <tr>\n",
       "      <th>4</th>\n",
       "      <td>660</td>\n",
       "      <td>0</td>\n",
       "      <td>0.213139</td>\n",
       "    </tr>\n",
       "  </tbody>\n",
       "</table>\n",
       "</div>"
      ],
      "text/plain": [
       "   sales  email       rfm\n",
       "0    740      1  0.584197\n",
       "1    580      1  0.038069\n",
       "2    600      1  0.316381\n",
       "3    770      0  0.362787\n",
       "4    660      0  0.213139"
      ]
     },
     "execution_count": 56,
     "metadata": {},
     "output_type": "execute_result"
    }
   ],
   "source": [
    "email_bk = email\n",
    "del email['opened']\n",
    "del email['agreement']\n",
    "del email['credit_limit']\n",
    "del email['risk_score']\n",
    "email.head()"
   ]
  },
  {
   "cell_type": "code",
   "execution_count": 82,
   "metadata": {},
   "outputs": [
    {
     "data": {
      "text/html": [
       "<table class=\"simpletable\">\n",
       "<tr>\n",
       "      <td></td>         <th>coef</th>     <th>std err</th>      <th>t</th>      <th>P>|t|</th>  <th>[0.025</th>    <th>0.975]</th>  \n",
       "</tr>\n",
       "<tr>\n",
       "  <th>Intercept</th> <td>  670.0004</td> <td>    2.060</td> <td>  325.290</td> <td> 0.000</td> <td>  665.962</td> <td>  674.038</td>\n",
       "</tr>\n",
       "<tr>\n",
       "  <th>email</th>     <td>   -0.6693</td> <td>    2.940</td> <td>   -0.228</td> <td> 0.820</td> <td>   -6.432</td> <td>    5.094</td>\n",
       "</tr>\n",
       "</table>"
      ],
      "text/plain": [
       "<class 'statsmodels.iolib.table.SimpleTable'>"
      ]
     },
     "execution_count": 82,
     "metadata": {},
     "output_type": "execute_result"
    }
   ],
   "source": [
    "model = smf.ols('sales ~ email', data=email).fit()\n",
    "model.summary().tables[1]\n",
    "#model.summary()"
   ]
  },
  {
   "cell_type": "code",
   "execution_count": 76,
   "metadata": {},
   "outputs": [
    {
     "ename": "AttributeError",
     "evalue": "module 'statsmodels.formula.api' has no attribute 'graphics'",
     "output_type": "error",
     "traceback": [
      "\u001b[1;31m---------------------------------------------------------------------------\u001b[0m",
      "\u001b[1;31mAttributeError\u001b[0m                            Traceback (most recent call last)",
      "\u001b[1;32m~\\AppData\\Local\\Temp/ipykernel_20864/3845376224.py\u001b[0m in \u001b[0;36m<module>\u001b[1;34m\u001b[0m\n\u001b[0;32m      3\u001b[0m \u001b[1;33m\u001b[0m\u001b[0m\n\u001b[0;32m      4\u001b[0m \u001b[1;31m#produce regression plots\u001b[0m\u001b[1;33m\u001b[0m\u001b[1;33m\u001b[0m\u001b[1;33m\u001b[0m\u001b[0m\n\u001b[1;32m----> 5\u001b[1;33m \u001b[0mfig\u001b[0m \u001b[1;33m=\u001b[0m \u001b[0msmf\u001b[0m\u001b[1;33m.\u001b[0m\u001b[0mgraphics\u001b[0m\u001b[1;33m.\u001b[0m\u001b[0mplot_regress_exog\u001b[0m\u001b[1;33m(\u001b[0m\u001b[0mmodel\u001b[0m\u001b[1;33m,\u001b[0m \u001b[1;34m'points'\u001b[0m\u001b[1;33m,\u001b[0m \u001b[0mfig\u001b[0m\u001b[1;33m=\u001b[0m\u001b[0mfig\u001b[0m\u001b[1;33m)\u001b[0m\u001b[1;33m\u001b[0m\u001b[1;33m\u001b[0m\u001b[0m\n\u001b[0m",
      "\u001b[1;31mAttributeError\u001b[0m: module 'statsmodels.formula.api' has no attribute 'graphics'"
     ]
    },
    {
     "data": {
      "text/plain": [
       "<Figure size 864x576 with 0 Axes>"
      ]
     },
     "metadata": {},
     "output_type": "display_data"
    }
   ],
   "source": [
    "#define figure size\n",
    "fig = plt.figure(figsize=(12,8))\n",
    "\n",
    "#produce regression plots\n",
    "fig = smf.graphics.plot_regress_exog(model, 'points', fig=fig)"
   ]
  },
  {
   "cell_type": "code",
   "execution_count": 66,
   "metadata": {},
   "outputs": [
    {
     "data": {
      "image/png": "[encoded data removed]",
      "text/plain": [
       "<Figure size 432x288 with 1 Axes>"
      ]
     },
     "metadata": {},
     "output_type": "display_data"
    }
   ],
   "source": [
    "sns.scatterplot(\"email\", \"sales\", \n",
    "                alpha=1,\n",
    "                data=email.assign(email=email[\"email\"] + np.random.normal(0, 0.01, size=len(email[\"email\"]))))\n",
    "plt.plot(np.linspace(-0.2, 1.2), model.params[0] + np.linspace(0, 0) * model.params[1], c=\"C1\")\n",
    "plt.xlabel(\"Email\")\n",
    "plt.ylabel(\"sales\");"
   ]
  },
  {
   "cell_type": "code",
   "execution_count": 74,
   "metadata": {},
   "outputs": [
    {
     "data": {
      "text/plain": [
       "<seaborn.axisgrid.FacetGrid at 0x1c473e29548>"
      ]
     },
     "execution_count": 74,
     "metadata": {},
     "output_type": "execute_result"
    },
    {
     "data": {
      "image/png": "[encoded data removed]",
      "text/plain": [
       "<Figure size 360x360 with 1 Axes>"
      ]
     },
     "metadata": {},
     "output_type": "display_data"
    }
   ],
   "source": [
    "\n",
    "df = email\n",
    "email['email']=email[\"email\"] + np.random.normal(0, 0.01, size=len(email[\"email\"]))\n",
    "sns.set_style(\"white\")\n",
    "sns.lmplot(x = \"email\",\n",
    "            y = \"sales\", \n",
    "            line_kws={'color': 'red'},\n",
    "            ci = None,\n",
    "            data = df)"
   ]
  },
  {
   "cell_type": "code",
   "execution_count": 68,
   "metadata": {},
   "outputs": [
    {
     "data": {
      "text/plain": [
       "array([513.4699817 , 513.74010043, 514.01021916, 514.28033789,\n",
       "       514.55045662, 514.82057535, 515.09069408, 515.36081281,\n",
       "       515.63093154, 515.90105027, 516.171169  , 516.44128773,\n",
       "       516.71140647, 516.9815252 , 517.25164393, 517.52176266,\n",
       "       517.79188139, 518.06200012, 518.33211885, 518.60223758,\n",
       "       518.87235631, 519.14247504, 519.41259377, 519.6827125 ,\n",
       "       519.95283123, 520.22294996, 520.49306869, 520.76318742,\n",
       "       521.03330615, 521.30342488, 521.57354361, 521.84366234,\n",
       "       522.11378107, 522.3838998 , 522.65401853, 522.92413726,\n",
       "       523.19425599, 523.46437472, 523.73449345, 524.00461218,\n",
       "       524.27473091, 524.54484964, 524.81496837, 525.0850871 ,\n",
       "       525.35520583, 525.62532456, 525.89544329, 526.16556202,\n",
       "       526.43568075, 526.70579948])"
      ]
     },
     "execution_count": 68,
     "metadata": {},
     "output_type": "execute_result"
    }
   ],
   "source": [
    "model.params[0] + np.linspace(-1, 2) * model.params[1]"
   ]
  },
  {
   "cell_type": "code",
   "execution_count": 79,
   "metadata": {},
   "outputs": [
    {
     "data": {
      "text/html": [
       "<table class=\"simpletable\">\n",
       "<tr>\n",
       "      <td></td>         <th>coef</th>     <th>std err</th>      <th>t</th>      <th>P>|t|</th>  <th>[0.025</th>    <th>0.975]</th>  \n",
       "</tr>\n",
       "<tr>\n",
       "  <th>Intercept</th> <td>  517.9040</td> <td>    2.699</td> <td>  191.888</td> <td> 0.000</td> <td>  512.613</td> <td>  523.195</td>\n",
       "</tr>\n",
       "<tr>\n",
       "  <th>email</th>     <td>    4.3708</td> <td>    2.127</td> <td>    2.055</td> <td> 0.040</td> <td>    0.202</td> <td>    8.540</td>\n",
       "</tr>\n",
       "<tr>\n",
       "  <th>rfm</th>       <td>  551.2506</td> <td>    8.159</td> <td>   67.567</td> <td> 0.000</td> <td>  535.256</td> <td>  567.245</td>\n",
       "</tr>\n",
       "</table>"
      ],
      "text/plain": [
       "<class 'statsmodels.iolib.table.SimpleTable'>"
      ]
     },
     "execution_count": 79,
     "metadata": {},
     "output_type": "execute_result"
    }
   ],
   "source": [
    "model = smf.ols('sales ~ email + rfm', data=email).fit()\n",
    "model.summary().tables[1]\n"
   ]
  },
  {
   "cell_type": "code",
   "execution_count": 81,
   "metadata": {},
   "outputs": [
    {
     "data": {
      "text/html": [
       "<table class=\"simpletable\">\n",
       "<tr>\n",
       "      <td></td>         <th>coef</th>     <th>std err</th>      <th>t</th>      <th>P>|t|</th>  <th>[0.025</th>    <th>0.975]</th>  \n",
       "</tr>\n",
       "<tr>\n",
       "  <th>Intercept</th> <td>    0.5271</td> <td>    0.016</td> <td>   32.279</td> <td> 0.000</td> <td>    0.495</td> <td>    0.559</td>\n",
       "</tr>\n",
       "<tr>\n",
       "  <th>rfm</th>       <td>   -0.1346</td> <td>    0.054</td> <td>   -2.481</td> <td> 0.013</td> <td>   -0.241</td> <td>   -0.028</td>\n",
       "</tr>\n",
       "</table>"
      ],
      "text/plain": [
       "<class 'statsmodels.iolib.table.SimpleTable'>"
      ]
     },
     "execution_count": 81,
     "metadata": {},
     "output_type": "execute_result"
    }
   ],
   "source": [
    "model_email = smf.ols('email ~ rfm', data=email).fit()\n",
    "model_email.summary().tables[1]"
   ]
  },
  {
   "cell_type": "code",
   "execution_count": null,
   "metadata": {},
   "outputs": [],
   "source": []
  },
  {
   "cell_type": "code",
   "execution_count": 91,
   "metadata": {},
   "outputs": [],
   "source": [
    "# generating selection bias data\n",
    "import random\n",
    "#Generate 5 random numbers between 10 and 30\n",
    "price = numpy.random.uniform(20, 40, size=(1, 300))"
   ]
  },
  {
   "cell_type": "code",
   "execution_count": 185,
   "metadata": {},
   "outputs": [
    {
     "data": {
      "text/plain": [
       "(2.006686984926633, 3.9820163705156815)"
      ]
     },
     "execution_count": 185,
     "metadata": {},
     "output_type": "execute_result"
    }
   ],
   "source": [
    "ncigs = 6-0.1*price\n",
    "np.min(ncigs), np.max(ncigs)"
   ]
  },
  {
   "cell_type": "code",
   "execution_count": 186,
   "metadata": {},
   "outputs": [],
   "source": [
    "health = 80+0.7*price -8*ncigs"
   ]
  },
  {
   "cell_type": "code",
   "execution_count": 187,
   "metadata": {},
   "outputs": [
    {
     "data": {
      "text/plain": [
       "(62.26975444226477, 91.8996952261005)"
      ]
     },
     "execution_count": 187,
     "metadata": {},
     "output_type": "execute_result"
    }
   ],
   "source": [
    "np.min(health), np.max(health)"
   ]
  },
  {
   "cell_type": "code",
   "execution_count": 189,
   "metadata": {},
   "outputs": [],
   "source": [
    "ncigs = ncigs.flatten()\n",
    "price = price.flatten()\n",
    "health = health.flatten()"
   ]
  },
  {
   "cell_type": "code",
   "execution_count": 190,
   "metadata": {},
   "outputs": [],
   "source": [
    "cig = pd.DataFrame(list_of_tuples, columns=['price', 'ncigs', 'health'])"
   ]
  },
  {
   "cell_type": "code",
   "execution_count": 191,
   "metadata": {},
   "outputs": [],
   "source": [
    "list_of_tuples = list(zip(price, ncigs, health))"
   ]
  },
  {
   "cell_type": "code",
   "execution_count": 192,
   "metadata": {},
   "outputs": [],
   "source": [
    "cig = pd.DataFrame(list_of_tuples, columns=['price', 'ncigs', 'health'])"
   ]
  },
  {
   "cell_type": "code",
   "execution_count": 193,
   "metadata": {},
   "outputs": [
    {
     "data": {
      "text/html": [
       "<div>\n",
       "<style scoped>\n",
       "    .dataframe tbody tr th:only-of-type {\n",
       "        vertical-align: middle;\n",
       "    }\n",
       "\n",
       "    .dataframe tbody tr th {\n",
       "        vertical-align: top;\n",
       "    }\n",
       "\n",
       "    .dataframe thead th {\n",
       "        text-align: right;\n",
       "    }\n",
       "</style>\n",
       "<table border=\"1\" class=\"dataframe\">\n",
       "  <thead>\n",
       "    <tr style=\"text-align: right;\">\n",
       "      <th></th>\n",
       "      <th>price</th>\n",
       "      <th>ncigs</th>\n",
       "      <th>health</th>\n",
       "    </tr>\n",
       "  </thead>\n",
       "  <tbody>\n",
       "    <tr>\n",
       "      <th>0</th>\n",
       "      <td>38.711218</td>\n",
       "      <td>2.128878</td>\n",
       "      <td>90.066827</td>\n",
       "    </tr>\n",
       "    <tr>\n",
       "      <th>1</th>\n",
       "      <td>23.136674</td>\n",
       "      <td>3.686333</td>\n",
       "      <td>66.705012</td>\n",
       "    </tr>\n",
       "    <tr>\n",
       "      <th>2</th>\n",
       "      <td>37.889849</td>\n",
       "      <td>2.211015</td>\n",
       "      <td>88.834774</td>\n",
       "    </tr>\n",
       "    <tr>\n",
       "      <th>3</th>\n",
       "      <td>36.531454</td>\n",
       "      <td>2.346855</td>\n",
       "      <td>86.797181</td>\n",
       "    </tr>\n",
       "    <tr>\n",
       "      <th>4</th>\n",
       "      <td>36.824919</td>\n",
       "      <td>2.317508</td>\n",
       "      <td>87.237378</td>\n",
       "    </tr>\n",
       "  </tbody>\n",
       "</table>\n",
       "</div>"
      ],
      "text/plain": [
       "       price     ncigs     health\n",
       "0  38.711218  2.128878  90.066827\n",
       "1  23.136674  3.686333  66.705012\n",
       "2  37.889849  2.211015  88.834774\n",
       "3  36.531454  2.346855  86.797181\n",
       "4  36.824919  2.317508  87.237378"
      ]
     },
     "execution_count": 193,
     "metadata": {},
     "output_type": "execute_result"
    }
   ],
   "source": [
    "cig.head()"
   ]
  },
  {
   "cell_type": "code",
   "execution_count": 194,
   "metadata": {},
   "outputs": [
    {
     "data": {
      "text/html": [
       "<table class=\"simpletable\">\n",
       "<tr>\n",
       "      <td></td>         <th>coef</th>     <th>std err</th>      <th>t</th>      <th>P>|t|</th>  <th>[0.025</th>    <th>0.975]</th>  \n",
       "</tr>\n",
       "<tr>\n",
       "  <th>Intercept</th> <td>   32.0000</td> <td> 1.38e-14</td> <td> 2.32e+15</td> <td> 0.000</td> <td>   32.000</td> <td>   32.000</td>\n",
       "</tr>\n",
       "<tr>\n",
       "  <th>price</th>     <td>    1.5000</td> <td> 4.48e-16</td> <td> 3.35e+15</td> <td> 0.000</td> <td>    1.500</td> <td>    1.500</td>\n",
       "</tr>\n",
       "</table>"
      ],
      "text/plain": [
       "<class 'statsmodels.iolib.table.SimpleTable'>"
      ]
     },
     "execution_count": 194,
     "metadata": {},
     "output_type": "execute_result"
    }
   ],
   "source": [
    "model = smf.ols('health ~ price', data=cig).fit()\n",
    "model.summary().tables[1]"
   ]
  },
  {
   "cell_type": "code",
   "execution_count": 195,
   "metadata": {},
   "outputs": [
    {
     "data": {
      "text/html": [
       "<table class=\"simpletable\">\n",
       "<tr>\n",
       "      <td></td>         <th>coef</th>     <th>std err</th>      <th>t</th>      <th>P>|t|</th>  <th>[0.025</th>    <th>0.975]</th>  \n",
       "</tr>\n",
       "<tr>\n",
       "  <th>Intercept</th> <td>    0.8976</td> <td> 4.11e-16</td> <td> 2.18e+15</td> <td> 0.000</td> <td>    0.898</td> <td>    0.898</td>\n",
       "</tr>\n",
       "<tr>\n",
       "  <th>price</th>     <td>    2.0184</td> <td> 2.59e-16</td> <td> 7.81e+15</td> <td> 0.000</td> <td>    2.018</td> <td>    2.018</td>\n",
       "</tr>\n",
       "<tr>\n",
       "  <th>ncigs</th>     <td>    5.1837</td> <td> 2.49e-15</td> <td> 2.08e+15</td> <td> 0.000</td> <td>    5.184</td> <td>    5.184</td>\n",
       "</tr>\n",
       "</table>"
      ],
      "text/plain": [
       "<class 'statsmodels.iolib.table.SimpleTable'>"
      ]
     },
     "execution_count": 195,
     "metadata": {},
     "output_type": "execute_result"
    }
   ],
   "source": [
    "model = smf.ols('health ~ price +ncigs', data=cig).fit()\n",
    "model.summary().tables[1]"
   ]
  },
  {
   "cell_type": "code",
   "execution_count": 196,
   "metadata": {},
   "outputs": [
    {
     "data": {
      "text/html": [
       "<table class=\"simpletable\">\n",
       "<tr>\n",
       "      <td></td>         <th>coef</th>     <th>std err</th>      <th>t</th>      <th>P>|t|</th>  <th>[0.025</th>    <th>0.975]</th>  \n",
       "</tr>\n",
       "<tr>\n",
       "  <th>Intercept</th> <td>    6.0000</td> <td> 6.62e-16</td> <td> 9.07e+15</td> <td> 0.000</td> <td>    6.000</td> <td>    6.000</td>\n",
       "</tr>\n",
       "<tr>\n",
       "  <th>price</th>     <td>   -0.1000</td> <td> 2.15e-17</td> <td>-4.65e+15</td> <td> 0.000</td> <td>   -0.100</td> <td>   -0.100</td>\n",
       "</tr>\n",
       "</table>"
      ],
      "text/plain": [
       "<class 'statsmodels.iolib.table.SimpleTable'>"
      ]
     },
     "execution_count": 196,
     "metadata": {},
     "output_type": "execute_result"
    }
   ],
   "source": [
    "model = smf.ols('ncigs ~ price', data=cig).fit()\n",
    "model.summary().tables[1]"
   ]
  },
  {
   "cell_type": "code",
   "execution_count": 223,
   "metadata": {},
   "outputs": [
    {
     "data": {
      "text/html": [
       "<div>\n",
       "<style scoped>\n",
       "    .dataframe tbody tr th:only-of-type {\n",
       "        vertical-align: middle;\n",
       "    }\n",
       "\n",
       "    .dataframe tbody tr th {\n",
       "        vertical-align: top;\n",
       "    }\n",
       "\n",
       "    .dataframe thead th {\n",
       "        text-align: right;\n",
       "    }\n",
       "</style>\n",
       "<table border=\"1\" class=\"dataframe\">\n",
       "  <thead>\n",
       "    <tr style=\"text-align: right;\">\n",
       "      <th></th>\n",
       "      <th>sales</th>\n",
       "      <th>email</th>\n",
       "      <th>opened</th>\n",
       "      <th>agreement</th>\n",
       "      <th>credit_limit</th>\n",
       "      <th>risk_score</th>\n",
       "    </tr>\n",
       "  </thead>\n",
       "  <tbody>\n",
       "    <tr>\n",
       "      <th>0</th>\n",
       "      <td>740</td>\n",
       "      <td>1</td>\n",
       "      <td>1</td>\n",
       "      <td>0</td>\n",
       "      <td>2348.495260</td>\n",
       "      <td>0.666752</td>\n",
       "    </tr>\n",
       "    <tr>\n",
       "      <th>1</th>\n",
       "      <td>580</td>\n",
       "      <td>1</td>\n",
       "      <td>1</td>\n",
       "      <td>1</td>\n",
       "      <td>334.111969</td>\n",
       "      <td>0.207395</td>\n",
       "    </tr>\n",
       "    <tr>\n",
       "      <th>2</th>\n",
       "      <td>600</td>\n",
       "      <td>1</td>\n",
       "      <td>1</td>\n",
       "      <td>1</td>\n",
       "      <td>1360.660722</td>\n",
       "      <td>0.550479</td>\n",
       "    </tr>\n",
       "    <tr>\n",
       "      <th>3</th>\n",
       "      <td>770</td>\n",
       "      <td>0</td>\n",
       "      <td>0</td>\n",
       "      <td>0</td>\n",
       "      <td>1531.828576</td>\n",
       "      <td>0.560488</td>\n",
       "    </tr>\n",
       "    <tr>\n",
       "      <th>4</th>\n",
       "      <td>660</td>\n",
       "      <td>0</td>\n",
       "      <td>0</td>\n",
       "      <td>0</td>\n",
       "      <td>979.855647</td>\n",
       "      <td>0.455140</td>\n",
       "    </tr>\n",
       "  </tbody>\n",
       "</table>\n",
       "</div>"
      ],
      "text/plain": [
       "   sales  email  opened  agreement  credit_limit  risk_score\n",
       "0    740      1       1          0   2348.495260    0.666752\n",
       "1    580      1       1          1    334.111969    0.207395\n",
       "2    600      1       1          1   1360.660722    0.550479\n",
       "3    770      0       0          0   1531.828576    0.560488\n",
       "4    660      0       0          0    979.855647    0.455140"
      ]
     },
     "execution_count": 223,
     "metadata": {},
     "output_type": "execute_result"
    }
   ],
   "source": [
    "email = pd.read_csv(\"Data/email_rfm.csv\")\n",
    "email.head(5)"
   ]
  },
  {
   "cell_type": "code",
   "execution_count": 238,
   "metadata": {},
   "outputs": [
    {
     "data": {
      "text/html": [
       "<table class=\"simpletable\">\n",
       "<tr>\n",
       "        <td></td>          <th>coef</th>     <th>std err</th>      <th>t</th>      <th>P>|t|</th>  <th>[0.025</th>    <th>0.975]</th>  \n",
       "</tr>\n",
       "<tr>\n",
       "  <th>Intercept</th>    <td>  490.8653</td> <td>    9.715</td> <td>   50.527</td> <td> 0.000</td> <td>  471.820</td> <td>  509.911</td>\n",
       "</tr>\n",
       "<tr>\n",
       "  <th>email</th>        <td>    4.4304</td> <td>    2.130</td> <td>    2.080</td> <td> 0.038</td> <td>    0.255</td> <td>    8.606</td>\n",
       "</tr>\n",
       "<tr>\n",
       "  <th>credit_limit</th> <td>    0.1511</td> <td>    0.008</td> <td>   18.833</td> <td> 0.000</td> <td>    0.135</td> <td>    0.167</td>\n",
       "</tr>\n",
       "<tr>\n",
       "  <th>risk_score</th>   <td>   -8.0516</td> <td>   38.424</td> <td>   -0.210</td> <td> 0.834</td> <td>  -83.379</td> <td>   67.276</td>\n",
       "</tr>\n",
       "</table>"
      ],
      "text/plain": [
       "<class 'statsmodels.iolib.table.SimpleTable'>"
      ]
     },
     "execution_count": 238,
     "metadata": {},
     "output_type": "execute_result"
    }
   ],
   "source": [
    "model_2 = smf.ols('sales ~ email + credit_limit + risk_score', data=email).fit()\n",
    "model_2.summary().tables[1]\n"
   ]
  },
  {
   "cell_type": "code",
   "execution_count": 239,
   "metadata": {},
   "outputs": [
    {
     "data": {
      "text/plain": [
       "(5000, 7)"
      ]
     },
     "execution_count": 239,
     "metadata": {},
     "output_type": "execute_result"
    }
   ],
   "source": [
    "email.shape"
   ]
  },
  {
   "cell_type": "code",
   "execution_count": 240,
   "metadata": {},
   "outputs": [
    {
     "data": {
      "text/plain": [
       "(0.012575598755120154, 264.06719210454685)"
      ]
     },
     "execution_count": 240,
     "metadata": {},
     "output_type": "execute_result"
    }
   ],
   "source": [
    "#email['wage'] = 500+120.8*email['email'] +(numpy.random.uniform(1, 40, size=(1, 5000))).flatten()\n",
    "email['wage']=np.abs(model_2.resid)\n",
    "np.min(email['wage']), np.max(email['wage'])"
   ]
  },
  {
   "cell_type": "code",
   "execution_count": 241,
   "metadata": {},
   "outputs": [
    {
     "data": {
      "text/html": [
       "<div>\n",
       "<style scoped>\n",
       "    .dataframe tbody tr th:only-of-type {\n",
       "        vertical-align: middle;\n",
       "    }\n",
       "\n",
       "    .dataframe tbody tr th {\n",
       "        vertical-align: top;\n",
       "    }\n",
       "\n",
       "    .dataframe thead th {\n",
       "        text-align: right;\n",
       "    }\n",
       "</style>\n",
       "<table border=\"1\" class=\"dataframe\">\n",
       "  <thead>\n",
       "    <tr style=\"text-align: right;\">\n",
       "      <th></th>\n",
       "      <th>sales</th>\n",
       "      <th>email</th>\n",
       "      <th>opened</th>\n",
       "      <th>agreement</th>\n",
       "      <th>credit_limit</th>\n",
       "      <th>risk_score</th>\n",
       "      <th>wage</th>\n",
       "    </tr>\n",
       "  </thead>\n",
       "  <tbody>\n",
       "    <tr>\n",
       "      <th>0</th>\n",
       "      <td>740</td>\n",
       "      <td>1</td>\n",
       "      <td>1</td>\n",
       "      <td>0</td>\n",
       "      <td>2348.495260</td>\n",
       "      <td>0.666752</td>\n",
       "      <td>104.711150</td>\n",
       "    </tr>\n",
       "    <tr>\n",
       "      <th>1</th>\n",
       "      <td>580</td>\n",
       "      <td>1</td>\n",
       "      <td>1</td>\n",
       "      <td>1</td>\n",
       "      <td>334.111969</td>\n",
       "      <td>0.207395</td>\n",
       "      <td>35.900406</td>\n",
       "    </tr>\n",
       "    <tr>\n",
       "      <th>2</th>\n",
       "      <td>600</td>\n",
       "      <td>1</td>\n",
       "      <td>1</td>\n",
       "      <td>1</td>\n",
       "      <td>1360.660722</td>\n",
       "      <td>0.550479</td>\n",
       "      <td>96.416532</td>\n",
       "    </tr>\n",
       "    <tr>\n",
       "      <th>3</th>\n",
       "      <td>770</td>\n",
       "      <td>0</td>\n",
       "      <td>0</td>\n",
       "      <td>0</td>\n",
       "      <td>1531.828576</td>\n",
       "      <td>0.560488</td>\n",
       "      <td>52.236323</td>\n",
       "    </tr>\n",
       "    <tr>\n",
       "      <th>4</th>\n",
       "      <td>660</td>\n",
       "      <td>0</td>\n",
       "      <td>0</td>\n",
       "      <td>0</td>\n",
       "      <td>979.855647</td>\n",
       "      <td>0.455140</td>\n",
       "      <td>24.773895</td>\n",
       "    </tr>\n",
       "  </tbody>\n",
       "</table>\n",
       "</div>"
      ],
      "text/plain": [
       "   sales  email  opened  agreement  credit_limit  risk_score        wage\n",
       "0    740      1       1          0   2348.495260    0.666752  104.711150\n",
       "1    580      1       1          1    334.111969    0.207395   35.900406\n",
       "2    600      1       1          1   1360.660722    0.550479   96.416532\n",
       "3    770      0       0          0   1531.828576    0.560488   52.236323\n",
       "4    660      0       0          0    979.855647    0.455140   24.773895"
      ]
     },
     "execution_count": 241,
     "metadata": {},
     "output_type": "execute_result"
    }
   ],
   "source": [
    "email.head()"
   ]
  },
  {
   "cell_type": "code",
   "execution_count": 260,
   "metadata": {},
   "outputs": [],
   "source": [
    "df=email\n",
    "df = df.rename(columns={'email':\"educ\", 'opened':'whitecollar'})"
   ]
  },
  {
   "cell_type": "code",
   "execution_count": 261,
   "metadata": {},
   "outputs": [
    {
     "data": {
      "text/html": [
       "<div>\n",
       "<style scoped>\n",
       "    .dataframe tbody tr th:only-of-type {\n",
       "        vertical-align: middle;\n",
       "    }\n",
       "\n",
       "    .dataframe tbody tr th {\n",
       "        vertical-align: top;\n",
       "    }\n",
       "\n",
       "    .dataframe thead th {\n",
       "        text-align: right;\n",
       "    }\n",
       "</style>\n",
       "<table border=\"1\" class=\"dataframe\">\n",
       "  <thead>\n",
       "    <tr style=\"text-align: right;\">\n",
       "      <th></th>\n",
       "      <th>sales</th>\n",
       "      <th>educ</th>\n",
       "      <th>whitecollar</th>\n",
       "      <th>agreement</th>\n",
       "      <th>credit_limit</th>\n",
       "      <th>risk_score</th>\n",
       "      <th>wage</th>\n",
       "    </tr>\n",
       "  </thead>\n",
       "  <tbody>\n",
       "    <tr>\n",
       "      <th>0</th>\n",
       "      <td>740</td>\n",
       "      <td>1</td>\n",
       "      <td>1</td>\n",
       "      <td>0</td>\n",
       "      <td>2348.495260</td>\n",
       "      <td>0.666752</td>\n",
       "      <td>104.711150</td>\n",
       "    </tr>\n",
       "    <tr>\n",
       "      <th>1</th>\n",
       "      <td>580</td>\n",
       "      <td>1</td>\n",
       "      <td>1</td>\n",
       "      <td>1</td>\n",
       "      <td>334.111969</td>\n",
       "      <td>0.207395</td>\n",
       "      <td>35.900406</td>\n",
       "    </tr>\n",
       "    <tr>\n",
       "      <th>2</th>\n",
       "      <td>600</td>\n",
       "      <td>1</td>\n",
       "      <td>1</td>\n",
       "      <td>1</td>\n",
       "      <td>1360.660722</td>\n",
       "      <td>0.550479</td>\n",
       "      <td>96.416532</td>\n",
       "    </tr>\n",
       "    <tr>\n",
       "      <th>3</th>\n",
       "      <td>770</td>\n",
       "      <td>0</td>\n",
       "      <td>0</td>\n",
       "      <td>0</td>\n",
       "      <td>1531.828576</td>\n",
       "      <td>0.560488</td>\n",
       "      <td>52.236323</td>\n",
       "    </tr>\n",
       "    <tr>\n",
       "      <th>4</th>\n",
       "      <td>660</td>\n",
       "      <td>0</td>\n",
       "      <td>0</td>\n",
       "      <td>0</td>\n",
       "      <td>979.855647</td>\n",
       "      <td>0.455140</td>\n",
       "      <td>24.773895</td>\n",
       "    </tr>\n",
       "  </tbody>\n",
       "</table>\n",
       "</div>"
      ],
      "text/plain": [
       "   sales  educ  whitecollar  agreement  credit_limit  risk_score        wage\n",
       "0    740     1            1          0   2348.495260    0.666752  104.711150\n",
       "1    580     1            1          1    334.111969    0.207395   35.900406\n",
       "2    600     1            1          1   1360.660722    0.550479   96.416532\n",
       "3    770     0            0          0   1531.828576    0.560488   52.236323\n",
       "4    660     0            0          0    979.855647    0.455140   24.773895"
      ]
     },
     "execution_count": 261,
     "metadata": {},
     "output_type": "execute_result"
    }
   ],
   "source": [
    "df.head()"
   ]
  },
  {
   "cell_type": "code",
   "execution_count": 262,
   "metadata": {},
   "outputs": [
    {
     "data": {
      "text/html": [
       "<div>\n",
       "<style scoped>\n",
       "    .dataframe tbody tr th:only-of-type {\n",
       "        vertical-align: middle;\n",
       "    }\n",
       "\n",
       "    .dataframe tbody tr th {\n",
       "        vertical-align: top;\n",
       "    }\n",
       "\n",
       "    .dataframe thead th {\n",
       "        text-align: right;\n",
       "    }\n",
       "</style>\n",
       "<table border=\"1\" class=\"dataframe\">\n",
       "  <thead>\n",
       "    <tr style=\"text-align: right;\">\n",
       "      <th></th>\n",
       "      <th>wage</th>\n",
       "      <th>educ</th>\n",
       "      <th>whitecollar</th>\n",
       "    </tr>\n",
       "  </thead>\n",
       "  <tbody>\n",
       "    <tr>\n",
       "      <th>12</th>\n",
       "      <td>112.032298</td>\n",
       "      <td>1</td>\n",
       "      <td>1</td>\n",
       "    </tr>\n",
       "    <tr>\n",
       "      <th>13</th>\n",
       "      <td>62.529750</td>\n",
       "      <td>1</td>\n",
       "      <td>1</td>\n",
       "    </tr>\n",
       "    <tr>\n",
       "      <th>14</th>\n",
       "      <td>205.628069</td>\n",
       "      <td>1</td>\n",
       "      <td>1</td>\n",
       "    </tr>\n",
       "    <tr>\n",
       "      <th>15</th>\n",
       "      <td>42.049558</td>\n",
       "      <td>0</td>\n",
       "      <td>0</td>\n",
       "    </tr>\n",
       "    <tr>\n",
       "      <th>16</th>\n",
       "      <td>9.867382</td>\n",
       "      <td>1</td>\n",
       "      <td>0</td>\n",
       "    </tr>\n",
       "  </tbody>\n",
       "</table>\n",
       "</div>"
      ],
      "text/plain": [
       "          wage  educ  whitecollar\n",
       "12  112.032298     1            1\n",
       "13   62.529750     1            1\n",
       "14  205.628069     1            1\n",
       "15   42.049558     0            0\n",
       "16    9.867382     1            0"
      ]
     },
     "execution_count": 262,
     "metadata": {},
     "output_type": "execute_result"
    }
   ],
   "source": [
    "df = df[['wage','educ','whitecollar']]\n",
    "df.iloc[12:17,:]"
   ]
  },
  {
   "cell_type": "code",
   "execution_count": 263,
   "metadata": {},
   "outputs": [
    {
     "data": {
      "text/html": [
       "<table class=\"simpletable\">\n",
       "<tr>\n",
       "      <td></td>         <th>coef</th>     <th>std err</th>      <th>t</th>      <th>P>|t|</th>  <th>[0.025</th>    <th>0.975]</th>  \n",
       "</tr>\n",
       "<tr>\n",
       "  <th>Intercept</th> <td>   59.1265</td> <td>    0.914</td> <td>   64.712</td> <td> 0.000</td> <td>   57.335</td> <td>   60.918</td>\n",
       "</tr>\n",
       "<tr>\n",
       "  <th>educ</th>      <td>    0.4639</td> <td>    1.304</td> <td>    0.356</td> <td> 0.722</td> <td>   -2.093</td> <td>    3.021</td>\n",
       "</tr>\n",
       "</table>"
      ],
      "text/plain": [
       "<class 'statsmodels.iolib.table.SimpleTable'>"
      ]
     },
     "execution_count": 263,
     "metadata": {},
     "output_type": "execute_result"
    }
   ],
   "source": [
    "model = smf.ols('wage ~ educ', data=df).fit()\n",
    "model.summary().tables[1]"
   ]
  },
  {
   "cell_type": "code",
   "execution_count": 264,
   "metadata": {},
   "outputs": [
    {
     "data": {
      "text/html": [
       "<table class=\"simpletable\">\n",
       "<tr>\n",
       "       <td></td>          <th>coef</th>     <th>std err</th>      <th>t</th>      <th>P>|t|</th>  <th>[0.025</th>    <th>0.975]</th>  \n",
       "</tr>\n",
       "<tr>\n",
       "  <th>Intercept</th>   <td>   59.1265</td> <td>    0.914</td> <td>   64.707</td> <td> 0.000</td> <td>   57.335</td> <td>   60.918</td>\n",
       "</tr>\n",
       "<tr>\n",
       "  <th>educ</th>        <td>   -0.0154</td> <td>    1.671</td> <td>   -0.009</td> <td> 0.993</td> <td>   -3.290</td> <td>    3.260</td>\n",
       "</tr>\n",
       "<tr>\n",
       "  <th>whitecollar</th> <td>    0.8604</td> <td>    1.874</td> <td>    0.459</td> <td> 0.646</td> <td>   -2.813</td> <td>    4.534</td>\n",
       "</tr>\n",
       "</table>"
      ],
      "text/plain": [
       "<class 'statsmodels.iolib.table.SimpleTable'>"
      ]
     },
     "execution_count": 264,
     "metadata": {},
     "output_type": "execute_result"
    }
   ],
   "source": [
    "model = smf.ols('wage ~ educ + whitecollar', data=df).fit()\n",
    "model.summary().tables[1]"
   ]
  },
  {
   "cell_type": "code",
   "execution_count": null,
   "metadata": {},
   "outputs": [],
   "source": []
  },
  {
   "cell_type": "code",
   "execution_count": null,
   "metadata": {},
   "outputs": [],
   "source": [
    "OldRange = (max(email['credit_limit']) - min(email['credit_limit']))  \n",
    "NewRange = (1 - 0)  \n",
    "email['rfm'] = (((email['credit_limit'] - min(email['credit_limit'])) * NewRange) / OldRange) + 0"
   ]
  },
  {
   "cell_type": "code",
   "execution_count": null,
   "metadata": {},
   "outputs": [],
   "source": [
    "email_bk = email\n",
    "del email['opened']\n",
    "del email['agreement']\n",
    "del email['credit_limit']\n",
    "del email['risk_score']\n",
    "email.head()"
   ]
  },
  {
   "cell_type": "code",
   "execution_count": 271,
   "metadata": {},
   "outputs": [],
   "source": [
    "import pandas as pd\n",
    "import numpy as np\n",
    "from scipy.special import expit\n",
    "import seaborn as sns\n",
    "from matplotlib import pyplot as plt\n",
    "from matplotlib import style\n",
    "\n",
    "style.use(\"fivethirtyeight\")\n",
    "\n",
    "np.random.seed(123)\n",
    "n = 100\n",
    "tuition = np.random.normal(1000, 300, n).round()\n",
    "tablet = np.random.binomial(1, expit((tuition - tuition.mean()) / tuition.std())).astype(bool)\n",
    "enem_score = np.random.normal(200 - 40 * tablet + 0.7 * tuition, 200)\n",
    "enem_score = (enem_score - enem_score.min()) / enem_score.max()\n",
    "enem_score *= 1000\n",
    "\n",
    "data = pd.DataFrame(dict(engagement_score=enem_score, profile_picture=tablet, Tablet=tablet))"
   ]
  },
  {
   "cell_type": "code",
   "execution_count": 274,
   "metadata": {},
   "outputs": [
    {
     "data": {
      "image/png": "[encoded data removed]",
      "text/plain": [
       "<Figure size 288x288 with 1 Axes>"
      ]
     },
     "metadata": {},
     "output_type": "display_data"
    }
   ],
   "source": [
    "plt.figure(figsize=(4,4))\n",
    "sns.set_style(\"white\")\n",
    "sns.boxplot(y=\"engagement_score\", x=\"profile_picture\", data=data).set_title('Engagement score  by Profile Picture ')\n",
    "plt.show()"
   ]
  },
  {
   "cell_type": "code",
   "execution_count": 288,
   "metadata": {},
   "outputs": [],
   "source": [
    "import graphviz as gr"
   ]
  },
  {
   "cell_type": "code",
   "execution_count": 323,
   "metadata": {},
   "outputs": [
    {
     "data": {
      "image/svg+xml": "<?xml version=\"1.0\" encoding=\"UTF-8\" standalone=\"no\"?>\n<!DOCTYPE svg PUBLIC \"-//W3C//DTD SVG 1.1//EN\"\n \"http://www.w3.org/Graphics/SVG/1.1/DTD/svg11.dtd\">\n<!-- Generated by graphviz version 2.49.2 (20211016.1639)\n -->\n<!-- Pages: 1 -->\n<svg width=\"252pt\" height=\"188pt\"\n viewBox=\"0.00 0.00 251.79 188.00\" xmlns=\"http://www.w3.org/2000/svg\" xmlns:xlink=\"http://www.w3.org/1999/xlink\">\n<g id=\"graph0\" class=\"graph\" transform=\"scale(1 1) rotate(0) translate(4 184)\">\n<polygon fill=\"white\" stroke=\"transparent\" points=\"-4,4 -4,-184 247.79,-184 247.79,4 -4,4\"/>\n<!-- Medicine -->\n<g id=\"node1\" class=\"node\">\n<title>Medicine</title>\n<ellipse fill=\"#5cacee\" stroke=\"#5cacee\" cx=\"44.2\" cy=\"-162\" rx=\"44.39\" ry=\"18\"/>\n<text text-anchor=\"middle\" x=\"44.2\" y=\"-158.3\" font-family=\"Times New Roman,serif\" font-size=\"14.00\">Medicine</text>\n</g>\n<!-- Survived -->\n<g id=\"node2\" class=\"node\">\n<title>Survived</title>\n<ellipse fill=\"#5cacee\" stroke=\"#5cacee\" cx=\"44.2\" cy=\"-90\" rx=\"42.79\" ry=\"18\"/>\n<text text-anchor=\"middle\" x=\"44.2\" y=\"-86.3\" font-family=\"Times New Roman,serif\" font-size=\"14.00\">Survived</text>\n</g>\n<!-- Medicine&#45;&gt;Survived -->\n<g id=\"edge1\" class=\"edge\">\n<title>Medicine&#45;&gt;Survived</title>\n<path fill=\"none\" stroke=\"black\" d=\"M44.2,-143.7C44.2,-135.98 44.2,-126.71 44.2,-118.11\"/>\n<polygon fill=\"black\" stroke=\"black\" points=\"47.7,-118.1 44.2,-108.1 40.7,-118.1 47.7,-118.1\"/>\n</g>\n<!-- medicine -->\n<g id=\"node3\" class=\"node\">\n<title>medicine</title>\n<ellipse fill=\"#5cacee\" stroke=\"#5cacee\" cx=\"167.2\" cy=\"-90\" rx=\"42.79\" ry=\"18\"/>\n<text text-anchor=\"middle\" x=\"167.2\" y=\"-86.3\" font-family=\"Times New Roman,serif\" font-size=\"14.00\">medicine</text>\n</g>\n<!-- survived -->\n<g id=\"node4\" class=\"node\">\n<title>survived</title>\n<ellipse fill=\"#5cacee\" stroke=\"#5cacee\" cx=\"202.2\" cy=\"-18\" rx=\"41.69\" ry=\"18\"/>\n<text text-anchor=\"middle\" x=\"202.2\" y=\"-14.3\" font-family=\"Times New Roman,serif\" font-size=\"14.00\">survived</text>\n</g>\n<!-- medicine&#45;&gt;survived -->\n<g id=\"edge2\" class=\"edge\">\n<title>medicine&#45;&gt;survived</title>\n<path fill=\"none\" stroke=\"black\" d=\"M175.67,-72.05C179.75,-63.89 184.74,-53.91 189.28,-44.82\"/>\n<polygon fill=\"black\" stroke=\"black\" points=\"192.46,-46.3 193.8,-35.79 186.2,-43.17 192.46,-46.3\"/>\n</g>\n<!-- severeness -->\n<g id=\"node5\" class=\"node\">\n<title>severeness</title>\n<ellipse fill=\"lightcoral\" stroke=\"lightcoral\" cx=\"187.2\" cy=\"-162\" rx=\"50.09\" ry=\"18\"/>\n<text text-anchor=\"middle\" x=\"187.2\" y=\"-158.3\" font-family=\"Times New Roman,serif\" font-size=\"14.00\">severeness</text>\n</g>\n<!-- severeness&#45;&gt;medicine -->\n<g id=\"edge4\" class=\"edge\">\n<title>severeness&#45;&gt;medicine</title>\n<path fill=\"none\" stroke=\"black\" d=\"M182.35,-144.05C180.13,-136.26 177.43,-126.82 174.93,-118.08\"/>\n<polygon fill=\"black\" stroke=\"black\" points=\"178.24,-116.93 172.13,-108.28 171.51,-118.85 178.24,-116.93\"/>\n</g>\n<!-- severeness&#45;&gt;survived -->\n<g id=\"edge3\" class=\"edge\">\n<title>severeness&#45;&gt;survived</title>\n<path fill=\"none\" stroke=\"black\" d=\"M200.43,-144.44C207.51,-134.5 215.51,-121.25 219.2,-108 224.97,-87.25 219.71,-63.25 213.56,-45.4\"/>\n<polygon fill=\"black\" stroke=\"black\" points=\"216.8,-44.06 210.02,-35.92 210.24,-46.52 216.8,-44.06\"/>\n</g>\n</g>\n</svg>\n",
      "text/plain": [
       "<graphviz.graphs.Digraph at 0x1c476871ac8>"
      ]
     },
     "execution_count": 323,
     "metadata": {},
     "output_type": "execute_result"
    }
   ],
   "source": [
    "g = gr.Digraph(node_attr={'color': 'steelblue2', 'style': 'filled'})\n",
    "g.edge(\"Medicine\", \"Survived\")\n",
    "\n",
    "g.edge(\"medicine\", \"survived\")\n",
    "g.edge(\"severeness\", \"survived\")\n",
    "g.edge(\"severeness\", \"medicine\")\n",
    "g.node(\"severeness\", \"severeness\", color=\"lightcoral\")\n",
    "g"
   ]
  },
  {
   "cell_type": "code",
   "execution_count": 318,
   "metadata": {},
   "outputs": [
    {
     "data": {
      "image/svg+xml": "<?xml version=\"1.0\" encoding=\"UTF-8\" standalone=\"no\"?>\n<!DOCTYPE svg PUBLIC \"-//W3C//DTD SVG 1.1//EN\"\n \"http://www.w3.org/Graphics/SVG/1.1/DTD/svg11.dtd\">\n<!-- Generated by graphviz version 2.49.2 (20211016.1639)\n -->\n<!-- Pages: 1 -->\n<svg width=\"89pt\" height=\"188pt\"\n viewBox=\"0.00 0.00 89.00 188.00\" xmlns=\"http://www.w3.org/2000/svg\" xmlns:xlink=\"http://www.w3.org/1999/xlink\">\n<g id=\"graph0\" class=\"graph\" transform=\"scale(1 1) rotate(0) translate(4 184)\">\n<polygon fill=\"white\" stroke=\"transparent\" points=\"-4,4 -4,-184 85,-184 85,4 -4,4\"/>\n<!-- X -->\n<g id=\"node1\" class=\"node\">\n<title>X</title>\n<ellipse fill=\"lightcoral\" stroke=\"lightcoral\" cx=\"54\" cy=\"-162\" rx=\"27\" ry=\"18\"/>\n<text text-anchor=\"middle\" x=\"54\" y=\"-158.3\" font-family=\"Times New Roman,serif\" font-size=\"14.00\">X</text>\n</g>\n<!-- T -->\n<g id=\"node2\" class=\"node\">\n<title>T</title>\n<ellipse fill=\"#5cacee\" stroke=\"#5cacee\" cx=\"27\" cy=\"-90\" rx=\"27\" ry=\"18\"/>\n<text text-anchor=\"middle\" x=\"27\" y=\"-86.3\" font-family=\"Times New Roman,serif\" font-size=\"14.00\">T</text>\n</g>\n<!-- X&#45;&gt;T -->\n<g id=\"edge1\" class=\"edge\">\n<title>X&#45;&gt;T</title>\n<path fill=\"none\" stroke=\"black\" d=\"M47.6,-144.41C44.49,-136.34 40.67,-126.43 37.17,-117.35\"/>\n<polygon fill=\"black\" stroke=\"black\" points=\"40.4,-116.03 33.54,-107.96 33.87,-118.55 40.4,-116.03\"/>\n</g>\n<!-- Y -->\n<g id=\"node3\" class=\"node\">\n<title>Y</title>\n<ellipse fill=\"#5cacee\" stroke=\"#5cacee\" cx=\"54\" cy=\"-18\" rx=\"27\" ry=\"18\"/>\n<text text-anchor=\"middle\" x=\"54\" y=\"-14.3\" font-family=\"Times New Roman,serif\" font-size=\"14.00\">Y</text>\n</g>\n<!-- X&#45;&gt;Y -->\n<g id=\"edge2\" class=\"edge\">\n<title>X&#45;&gt;Y</title>\n<path fill=\"none\" stroke=\"black\" d=\"M57.65,-143.91C59.68,-133.57 61.98,-120.09 63,-108 64.34,-92.06 64.34,-87.94 63,-72 62.28,-63.5 60.93,-54.31 59.49,-46.01\"/>\n<polygon fill=\"black\" stroke=\"black\" points=\"62.91,-45.29 57.65,-36.09 56.03,-46.56 62.91,-45.29\"/>\n</g>\n<!-- T&#45;&gt;Y -->\n<g id=\"edge3\" class=\"edge\">\n<title>T&#45;&gt;Y</title>\n<path fill=\"none\" stroke=\"black\" d=\"M33.4,-72.41C36.51,-64.34 40.33,-54.43 43.83,-45.35\"/>\n<polygon fill=\"black\" stroke=\"black\" points=\"47.13,-46.55 47.46,-35.96 40.6,-44.03 47.13,-46.55\"/>\n</g>\n</g>\n</svg>\n",
      "text/plain": [
       "<graphviz.graphs.Digraph at 0x1c476171708>"
      ]
     },
     "execution_count": 318,
     "metadata": {},
     "output_type": "execute_result"
    }
   ],
   "source": [
    "g = gr.Digraph(node_attr={'color': 'steelblue2', 'style': 'filled'})\n",
    "g.edge(\"X\", \"T\")\n",
    "g.edge(\"X\", \"Y\")\n",
    "g.edge(\"T\", \"Y\")\n",
    "g.node(\"X\", \"X\", color=\"lightcoral\")\n",
    "g"
   ]
  },
  {
   "cell_type": "code",
   "execution_count": 324,
   "metadata": {},
   "outputs": [
    {
     "data": {
      "image/svg+xml": "<?xml version=\"1.0\" encoding=\"UTF-8\" standalone=\"no\"?>\n<!DOCTYPE svg PUBLIC \"-//W3C//DTD SVG 1.1//EN\"\n \"http://www.w3.org/Graphics/SVG/1.1/DTD/svg11.dtd\">\n<!-- Generated by graphviz version 2.49.2 (20211016.1639)\n -->\n<!-- Pages: 1 -->\n<svg width=\"172pt\" height=\"188pt\"\n viewBox=\"0.00 0.00 172.00 188.00\" xmlns=\"http://www.w3.org/2000/svg\" xmlns:xlink=\"http://www.w3.org/1999/xlink\">\n<g id=\"graph0\" class=\"graph\" transform=\"scale(1 1) rotate(0) translate(4 184)\">\n<polygon fill=\"white\" stroke=\"transparent\" points=\"-4,4 -4,-184 168,-184 168,4 -4,4\"/>\n<!-- X -->\n<g id=\"node1\" class=\"node\">\n<title>X</title>\n<ellipse fill=\"lightcoral\" stroke=\"lightcoral\" cx=\"54\" cy=\"-162\" rx=\"27\" ry=\"18\"/>\n<text text-anchor=\"middle\" x=\"54\" y=\"-158.3\" font-family=\"Times New Roman,serif\" font-size=\"14.00\">X</text>\n</g>\n<!-- T -->\n<g id=\"node2\" class=\"node\">\n<title>T</title>\n<ellipse fill=\"#5cacee\" stroke=\"#5cacee\" cx=\"27\" cy=\"-90\" rx=\"27\" ry=\"18\"/>\n<text text-anchor=\"middle\" x=\"27\" y=\"-86.3\" font-family=\"Times New Roman,serif\" font-size=\"14.00\">T</text>\n</g>\n<!-- X&#45;&gt;T -->\n<g id=\"edge1\" class=\"edge\">\n<title>X&#45;&gt;T</title>\n<path fill=\"none\" stroke=\"black\" d=\"M47.6,-144.41C44.49,-136.34 40.67,-126.43 37.17,-117.35\"/>\n<polygon fill=\"black\" stroke=\"black\" points=\"40.4,-116.03 33.54,-107.96 33.87,-118.55 40.4,-116.03\"/>\n</g>\n<!-- Y -->\n<g id=\"node4\" class=\"node\">\n<title>Y</title>\n<ellipse fill=\"#5cacee\" stroke=\"#5cacee\" cx=\"82\" cy=\"-18\" rx=\"27\" ry=\"18\"/>\n<text text-anchor=\"middle\" x=\"82\" y=\"-14.3\" font-family=\"Times New Roman,serif\" font-size=\"14.00\">Y</text>\n</g>\n<!-- X&#45;&gt;Y -->\n<g id=\"edge3\" class=\"edge\">\n<title>X&#45;&gt;Y</title>\n<path fill=\"none\" stroke=\"black\" d=\"M57.38,-143.87C62.17,-119.56 70.99,-74.82 76.67,-46.01\"/>\n<polygon fill=\"black\" stroke=\"black\" points=\"80.11,-46.68 78.61,-36.19 73.24,-45.32 80.11,-46.68\"/>\n</g>\n<!-- T&#45;&gt;Y -->\n<g id=\"edge4\" class=\"edge\">\n<title>T&#45;&gt;Y</title>\n<path fill=\"none\" stroke=\"black\" d=\"M38.93,-73.81C46.21,-64.55 55.66,-52.52 63.85,-42.09\"/>\n<polygon fill=\"black\" stroke=\"black\" points=\"66.66,-44.18 70.09,-34.16 61.16,-39.86 66.66,-44.18\"/>\n</g>\n<!-- A -->\n<g id=\"node3\" class=\"node\">\n<title>A</title>\n<ellipse fill=\"#7ccd7c\" stroke=\"#7ccd7c\" cx=\"137\" cy=\"-90\" rx=\"27\" ry=\"18\"/>\n<text text-anchor=\"middle\" x=\"137\" y=\"-86.3\" font-family=\"Times New Roman,serif\" font-size=\"14.00\">A</text>\n</g>\n<!-- A&#45;&gt;Y -->\n<g id=\"edge2\" class=\"edge\">\n<title>A&#45;&gt;Y</title>\n<path fill=\"none\" stroke=\"black\" d=\"M125.07,-73.81C117.79,-64.55 108.34,-52.52 100.15,-42.09\"/>\n<polygon fill=\"black\" stroke=\"black\" points=\"102.84,-39.86 93.91,-34.16 97.34,-44.18 102.84,-39.86\"/>\n</g>\n</g>\n</svg>\n",
      "text/plain": [
       "<graphviz.graphs.Digraph at 0x1c476a6d608>"
      ]
     },
     "execution_count": 324,
     "metadata": {},
     "output_type": "execute_result"
    }
   ],
   "source": [
    "\n",
    "g = gr.Digraph(node_attr={'color': 'steelblue2', 'style': 'filled'})\n",
    "g.edge(\"X\", \"T\")\n",
    "g.edge(\"A\", \"Y\")\n",
    "g.edge(\"X\", \"Y\")\n",
    "g.edge(\"T\", \"Y\")\n",
    "g.node(\"X\", \"X\", color=\"lightcoral\")\n",
    "g.node(\"A\", \"A\", color=\"palegreen3\")\n",
    "g"
   ]
  },
  {
   "cell_type": "code",
   "execution_count": 322,
   "metadata": {},
   "outputs": [
    {
     "data": {
      "image/svg+xml": "<?xml version=\"1.0\" encoding=\"UTF-8\" standalone=\"no\"?>\n<!DOCTYPE svg PUBLIC \"-//W3C//DTD SVG 1.1//EN\"\n \"http://www.w3.org/Graphics/SVG/1.1/DTD/svg11.dtd\">\n<!-- Generated by graphviz version 2.49.2 (20211016.1639)\n -->\n<!-- Pages: 1 -->\n<svg width=\"243pt\" height=\"188pt\"\n viewBox=\"0.00 0.00 242.60 188.00\" xmlns=\"http://www.w3.org/2000/svg\" xmlns:xlink=\"http://www.w3.org/1999/xlink\">\n<g id=\"graph0\" class=\"graph\" transform=\"scale(1 1) rotate(0) translate(4 184)\">\n<polygon fill=\"white\" stroke=\"transparent\" points=\"-4,4 -4,-184 238.6,-184 238.6,4 -4,4\"/>\n<!-- T -->\n<g id=\"node1\" class=\"node\">\n<title>T</title>\n<ellipse fill=\"#5cacee\" stroke=\"#5cacee\" cx=\"36\" cy=\"-162\" rx=\"27\" ry=\"18\"/>\n<text text-anchor=\"middle\" x=\"36\" y=\"-158.3\" font-family=\"Times New Roman,serif\" font-size=\"14.00\">T</text>\n</g>\n<!-- X -->\n<g id=\"node2\" class=\"node\">\n<title>X</title>\n<ellipse fill=\"lightcoral\" stroke=\"lightcoral\" cx=\"27\" cy=\"-18\" rx=\"27\" ry=\"18\"/>\n<text text-anchor=\"middle\" x=\"27\" y=\"-14.3\" font-family=\"Times New Roman,serif\" font-size=\"14.00\">X</text>\n</g>\n<!-- T&#45;&gt;X -->\n<g id=\"edge1\" class=\"edge\">\n<title>T&#45;&gt;X</title>\n<path fill=\"none\" stroke=\"black\" d=\"M26.15,-144.97C20.49,-134.79 13.94,-121.1 11,-108 6.3,-87 11.22,-62.97 16.81,-45.17\"/>\n<polygon fill=\"black\" stroke=\"black\" points=\"20.19,-46.08 20.11,-35.49 13.57,-43.82 20.19,-46.08\"/>\n</g>\n<!-- Y -->\n<g id=\"node3\" class=\"node\">\n<title>Y</title>\n<ellipse fill=\"#5cacee\" stroke=\"#5cacee\" cx=\"47\" cy=\"-90\" rx=\"27\" ry=\"18\"/>\n<text text-anchor=\"middle\" x=\"47\" y=\"-86.3\" font-family=\"Times New Roman,serif\" font-size=\"14.00\">Y</text>\n</g>\n<!-- T&#45;&gt;Y -->\n<g id=\"edge2\" class=\"edge\">\n<title>T&#45;&gt;Y</title>\n<path fill=\"none\" stroke=\"black\" d=\"M38.66,-144.05C39.87,-136.35 41.34,-127.03 42.7,-118.36\"/>\n<polygon fill=\"black\" stroke=\"black\" points=\"46.19,-118.7 44.29,-108.28 39.28,-117.61 46.19,-118.7\"/>\n</g>\n<!-- Y&#45;&gt;X -->\n<g id=\"edge3\" class=\"edge\">\n<title>Y&#45;&gt;X</title>\n<path fill=\"none\" stroke=\"black\" d=\"M42.16,-72.05C39.9,-64.14 37.15,-54.54 34.63,-45.69\"/>\n<polygon fill=\"black\" stroke=\"black\" points=\"37.91,-44.44 31.8,-35.79 31.18,-46.37 37.91,-44.44\"/>\n</g>\n<!-- Practice -->\n<g id=\"node4\" class=\"node\">\n<title>Practice</title>\n<ellipse fill=\"#5cacee\" stroke=\"#5cacee\" cx=\"133\" cy=\"-162\" rx=\"40.09\" ry=\"18\"/>\n<text text-anchor=\"middle\" x=\"133\" y=\"-158.3\" font-family=\"Times New Roman,serif\" font-size=\"14.00\">Practice</text>\n</g>\n<!-- Performance -->\n<g id=\"node5\" class=\"node\">\n<title>Performance</title>\n<ellipse fill=\"lightcoral\" stroke=\"lightcoral\" cx=\"143\" cy=\"-18\" rx=\"57.39\" ry=\"18\"/>\n<text text-anchor=\"middle\" x=\"143\" y=\"-14.3\" font-family=\"Times New Roman,serif\" font-size=\"14.00\">Performance</text>\n</g>\n<!-- Practice&#45;&gt;Performance -->\n<g id=\"edge4\" class=\"edge\">\n<title>Practice&#45;&gt;Performance</title>\n<path fill=\"none\" stroke=\"black\" d=\"M134.21,-143.87C135.91,-119.67 139.04,-75.21 141.07,-46.39\"/>\n<polygon fill=\"black\" stroke=\"black\" points=\"144.58,-46.41 141.79,-36.19 137.6,-45.92 144.58,-46.41\"/>\n</g>\n<!-- Memory -->\n<g id=\"node6\" class=\"node\">\n<title>Memory</title>\n<ellipse fill=\"#5cacee\" stroke=\"#5cacee\" cx=\"193\" cy=\"-90\" rx=\"41.69\" ry=\"18\"/>\n<text text-anchor=\"middle\" x=\"193\" y=\"-86.3\" font-family=\"Times New Roman,serif\" font-size=\"14.00\">Memory</text>\n</g>\n<!-- Practice&#45;&gt;Memory -->\n<g id=\"edge5\" class=\"edge\">\n<title>Practice&#45;&gt;Memory</title>\n<path fill=\"none\" stroke=\"black\" d=\"M146.92,-144.76C154.49,-135.93 164,-124.83 172.42,-115.01\"/>\n<polygon fill=\"black\" stroke=\"black\" points=\"175.31,-117.02 179.16,-107.15 169.99,-112.46 175.31,-117.02\"/>\n</g>\n<!-- Memory&#45;&gt;Performance -->\n<g id=\"edge6\" class=\"edge\">\n<title>Memory&#45;&gt;Performance</title>\n<path fill=\"none\" stroke=\"black\" d=\"M181.15,-72.41C175.14,-63.99 167.7,-53.58 161,-44.2\"/>\n<polygon fill=\"black\" stroke=\"black\" points=\"163.77,-42.06 155.11,-35.96 158.08,-46.13 163.77,-42.06\"/>\n</g>\n</g>\n</svg>\n",
      "text/plain": [
       "<graphviz.graphs.Digraph at 0x1c476871d88>"
      ]
     },
     "execution_count": 322,
     "metadata": {},
     "output_type": "execute_result"
    }
   ],
   "source": [
    "g = gr.Digraph(node_attr={'color': 'steelblue2', 'style': 'filled'})\n",
    "g.edge(\"T\", \"X\")\n",
    "g.edge(\"T\", \"Y\")\n",
    "g.edge(\"Y\", \"X\")\n",
    "g.node(\"X\", \"X\", color=\"lightcoral\")\n",
    "\n",
    "g.edge(\"Practice\", \"Performance\")\n",
    "g.edge(\"Practice\", \"Memory\")\n",
    "g.edge(\"Memory\", \"Performance\")\n",
    "g.node(\"Performance\", \"Performance\", color=\"lightcoral\")\n",
    "\n",
    "g"
   ]
  },
  {
   "cell_type": "code",
   "execution_count": 309,
   "metadata": {},
   "outputs": [
    {
     "data": {
      "image/svg+xml": "<?xml version=\"1.0\" encoding=\"UTF-8\" standalone=\"no\"?>\n<!DOCTYPE svg PUBLIC \"-//W3C//DTD SVG 1.1//EN\"\n \"http://www.w3.org/Graphics/SVG/1.1/DTD/svg11.dtd\">\n<!-- Generated by graphviz version 2.49.2 (20211016.1639)\n -->\n<!-- Pages: 1 -->\n<svg width=\"94pt\" height=\"116pt\"\n viewBox=\"0.00 0.00 93.79 116.00\" xmlns=\"http://www.w3.org/2000/svg\" xmlns:xlink=\"http://www.w3.org/1999/xlink\">\n<g id=\"graph0\" class=\"graph\" transform=\"scale(1 1) rotate(0) translate(4 112)\">\n<polygon fill=\"white\" stroke=\"transparent\" points=\"-4,4 -4,-112 89.79,-112 89.79,4 -4,4\"/>\n<!-- medicine -->\n<g id=\"node1\" class=\"node\">\n<title>medicine</title>\n<ellipse fill=\"#5cacee\" stroke=\"#5cacee\" cx=\"42.9\" cy=\"-90\" rx=\"42.79\" ry=\"18\"/>\n<text text-anchor=\"middle\" x=\"42.9\" y=\"-86.3\" font-family=\"Times New Roman,serif\" font-size=\"14.00\">medicine</text>\n</g>\n<!-- survived -->\n<g id=\"node2\" class=\"node\">\n<title>survived</title>\n<ellipse fill=\"#5cacee\" stroke=\"#5cacee\" cx=\"42.9\" cy=\"-18\" rx=\"41.69\" ry=\"18\"/>\n<text text-anchor=\"middle\" x=\"42.9\" y=\"-14.3\" font-family=\"Times New Roman,serif\" font-size=\"14.00\">survived</text>\n</g>\n<!-- medicine&#45;&gt;survived -->\n<g id=\"edge1\" class=\"edge\">\n<title>medicine&#45;&gt;survived</title>\n<path fill=\"none\" stroke=\"black\" d=\"M42.9,-71.7C42.9,-63.98 42.9,-54.71 42.9,-46.11\"/>\n<polygon fill=\"black\" stroke=\"black\" points=\"46.4,-46.1 42.9,-36.1 39.4,-46.1 46.4,-46.1\"/>\n</g>\n</g>\n</svg>\n",
      "text/plain": [
       "<graphviz.graphs.Digraph at 0x1c476a7c748>"
      ]
     },
     "execution_count": 309,
     "metadata": {},
     "output_type": "execute_result"
    }
   ],
   "source": [
    "g = gr.Digraph(node_attr={'color': 'steelblue2', 'style': 'filled'})\n",
    "\n",
    "g.edge(\"medicine\", \"survived\")\n",
    "\n",
    "\n",
    "g"
   ]
  },
  {
   "cell_type": "code",
   "execution_count": 292,
   "metadata": {},
   "outputs": [],
   "source": [
    "import os\n",
    "os.environ[\"PATH\"] += os.pathsep + 'C:/Program Files/Graphviz/bin'"
   ]
  },
  {
   "cell_type": "code",
   "execution_count": 293,
   "metadata": {},
   "outputs": [
    {
     "data": {
      "text/plain": [
       "'c:\\\\Users\\\\Zain\\\\Desktop\\\\Github\\\\CausalInference\\\\venv\\\\lib\\\\site-packages\\\\pywin32_system32;C:\\\\Users\\\\Zain\\\\Desktop\\\\Github\\\\CausalInference\\\\venv\\\\lib\\\\site-packages\\\\pywin32_system32;C:\\\\Users\\\\Zain\\\\Desktop\\\\Github\\\\CausalInference\\\\venv\\\\Scripts;C:\\\\Windows\\\\system32;C:\\\\Windows;C:\\\\Windows\\\\System32\\\\Wbem;C:\\\\Windows\\\\System32\\\\WindowsPowerShell\\\\v1.0\\\\;C:\\\\Windows\\\\System32\\\\OpenSSH\\\\;C:\\\\Program Files\\\\Git\\\\cmd;C:\\\\Users\\\\Zain\\\\AppData\\\\Local\\\\Microsoft\\\\WindowsApps;;C:\\\\Users\\\\Zain\\\\AppData\\\\Local\\\\Programs\\\\Microsoft VS Code\\\\bin;c:\\\\Users\\\\Zain\\\\Desktop\\\\Github\\\\CausalInference\\\\venv\\\\lib\\\\site-packages\\\\numpy\\\\.libs;c:\\\\Users\\\\Zain\\\\Desktop\\\\Github\\\\CausalInference\\\\venv\\\\lib\\\\site-packages\\\\scipy\\\\.libs;C:\\\\Program Files\\\\Graphviz\\x08in;C:/Program Files/Graphviz/bin;C:/Program Files/Graphviz/bin;C:/Program Files/Graphviz/bin'"
      ]
     },
     "execution_count": 293,
     "metadata": {},
     "output_type": "execute_result"
    }
   ],
   "source": [
    "os.environ[\"PATH\"]"
   ]
  }
 ],
 "metadata": {
  "interpreter": {
   "hash": "acb2968b2bff1355f99d78bbecee5296a0e76d09abdae64e4228d108160344a0"
  },
  "kernelspec": {
   "display_name": "Python 3.7.9 64-bit (windows store)",
   "language": "python",
   "name": "python3"
  },
  "language_info": {
   "codemirror_mode": {
    "name": "ipython",
    "version": 3
   },
   "file_extension": ".py",
   "mimetype": "text/x-python",
   "name": "python",
   "nbconvert_exporter": "python",
   "pygments_lexer": "ipython3",
   "version": "3.7.9"
  },
  "orig_nbformat": 4
 },
 "nbformat": 4,
 "nbformat_minor": 2
}
